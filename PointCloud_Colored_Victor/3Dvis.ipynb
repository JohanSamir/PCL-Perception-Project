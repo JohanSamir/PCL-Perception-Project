{
 "cells": [
  {
   "cell_type": "code",
   "execution_count": null,
   "metadata": {},
   "outputs": [],
   "source": [
    "import numpy as np\n",
    "import open3d as o3\n",
    "from open3d import JVisualizer\n",
    "\n",
    "pts_path = \"/home/johan/repos/GitHub/PCL-Perception-Project/PointCloud_Colored_Victor/robust_colorized.ply\"\n",
    "pcd = o3.read_point_cloud(pts_path)\n",
    "print('fragment',pcd)\n",
    "print(pcd)\n",
    "print(np.asarray(pcd.points[0]))\n",
    "print(np.asarray(pcd.colors[0]))\n",
    "o3.visualization.draw_geometries([pcd])\n",
    "\n",
    "PCD_XYZRGB = np.hstack((pcd.points,pcd.colors)) \n",
    "#print('PCD_XYZRGB',PCD_XYZRGB)\n",
    "#np.savetxt(\"PCD_XYZRGB \", PCD_XYZRGB , delimiter=' ')"
   ]
  },
  {
   "cell_type": "markdown",
   "metadata": {},
   "source": [
    "# New method (PointCloud_Color)"
   ]
  },
  {
   "cell_type": "code",
   "execution_count": null,
   "metadata": {},
   "outputs": [],
   "source": [
    "#https://github.com/dranjan/python-plyfile\n",
    "from plyfile import PlyData, PlyElement\n",
    "import open3d as o3d\n",
    "\n",
    "plydata = PlyData.read('/home/johan/repos/GitHub/PCL-Perception-Project/PointCloud_Colored_Victor/pmvs_options.ply')\n",
    "print('plydata',plydata)"
   ]
  },
  {
   "cell_type": "code",
   "execution_count": null,
   "metadata": {},
   "outputs": [],
   "source": [
    "X = plydata.elements[0].data['x']\n",
    "print('X:',X,len(X),type(X),X.shape)\n",
    "X = X.reshape(len(X),1)\n",
    "print('X:',X.shape)\n",
    "\n",
    "Y = plydata.elements[0].data['y'].reshape(len(X),1)\n",
    "Z = plydata.elements[0].data['z'].reshape(len(X),1)\n",
    "R = plydata.elements[0].data['diffuse_red'].reshape(len(X),1)\n",
    "G = plydata.elements[0].data['diffuse_green'].reshape(len(X),1)\n",
    "B = plydata.elements[0].data['diffuse_blue'].reshape(len(X),1)\n",
    "print('B:', B.shape)\n",
    "\n",
    "\n",
    "XY = np.hstack((X,Y))\n",
    "XYZ = np.hstack((XY,Z))\n",
    "XYZR = np.hstack((XYZ,R))\n",
    "XYZRG = np.hstack((XYZR,G))\n",
    "XYZRGB = np.hstack((XYZRG,B))\n",
    "print('XYZRGB :', XYZRGB.shape)\n",
    "print('XYZRGB :\\n',XYZRGB[0:3])\n",
    "np.savetxt(\"/home/johan/repos/GitHub/PCL-Perception-Project/PCD_XYZRGB_New.txt\", XYZRGB , delimiter=' ')\n"
   ]
  },
  {
   "cell_type": "markdown",
   "metadata": {},
   "source": [
    "## Visualization with Color Using PCL"
   ]
  },
  {
   "cell_type": "markdown",
   "metadata": {},
   "source": [
    "<img src=\"Image/PCL_1.png\" style=\"width: 450px;\">\n",
    "**PointCloud .ply with color.**\n",
    "<img src=\"Image/PointCloud_1.png\" style=\"width: 450px;\">\n"
   ]
  }
 ],
 "metadata": {
  "kernelspec": {
   "display_name": "Python 3",
   "language": "python",
   "name": "python3"
  },
  "language_info": {
   "codemirror_mode": {
    "name": "ipython",
    "version": 3
   },
   "file_extension": ".py",
   "mimetype": "text/x-python",
   "name": "python",
   "nbconvert_exporter": "python",
   "pygments_lexer": "ipython3",
   "version": "3.5.2"
  },
  "varInspector": {
   "cols": {
    "lenName": 16,
    "lenType": 16,
    "lenVar": 40
   },
   "kernels_config": {
    "python": {
     "delete_cmd_postfix": "",
     "delete_cmd_prefix": "del ",
     "library": "var_list.py",
     "varRefreshCmd": "print(var_dic_list())"
    },
    "r": {
     "delete_cmd_postfix": ") ",
     "delete_cmd_prefix": "rm(",
     "library": "var_list.r",
     "varRefreshCmd": "cat(var_dic_list()) "
    }
   },
   "types_to_exclude": [
    "module",
    "function",
    "builtin_function_or_method",
    "instance",
    "_Feature"
   ],
   "window_display": false
  }
 },
 "nbformat": 4,
 "nbformat_minor": 2
}
