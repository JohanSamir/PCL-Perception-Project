{
 "cells": [
  {
   "cell_type": "code",
   "execution_count": 50,
   "metadata": {},
   "outputs": [
    {
     "name": "stdout",
     "output_type": "stream",
     "text": [
      "fragment PointCloud with 141 points.\n",
      "PointCloud with 141 points.\n",
      "[ 0.03586473 -0.01385003  0.93643484]\n",
      "[0.43137255 0.56862745 0.7254902 ]\n"
     ]
    }
   ],
   "source": [
    "import numpy as np\n",
    "import open3d as o3\n",
    "from open3d import JVisualizer\n",
    "\n",
    "pts_path = \"/home/johan/repos/GitHub/PCL-Perception-Project/PointCloud_Colored_Victor/robust_colorized.ply\"\n",
    "pcd = o3.read_point_cloud(pts_path)\n",
    "print('fragment',pcd)\n",
    "print(pcd)\n",
    "print(np.asarray(pcd.points[0]))\n",
    "print(np.asarray(pcd.colors[0]))\n",
    "o3.visualization.draw_geometries([pcd])\n",
    "\n",
    "PCD_XYZRGB = np.hstack((pcd.points,pcd.colors)) \n",
    "#print('PCD_XYZRGB',PCD_XYZRGB)\n",
    "#np.savetxt(\"PCD_XYZRGB \", PCD_XYZRGB , delimiter=' ')"
   ]
  },
  {
   "cell_type": "markdown",
   "metadata": {},
   "source": [
    "# New method (PointCloud_Color)"
   ]
  },
  {
   "cell_type": "code",
   "execution_count": 34,
   "metadata": {},
   "outputs": [
    {
     "name": "stdout",
     "output_type": "stream",
     "text": [
      "plydata ply\n",
      "format ascii 1.0\n",
      "element vertex 62918\n",
      "property float x\n",
      "property float y\n",
      "property float z\n",
      "property float nx\n",
      "property float ny\n",
      "property float nz\n",
      "property uchar diffuse_red\n",
      "property uchar diffuse_green\n",
      "property uchar diffuse_blue\n",
      "end_header\n"
     ]
    }
   ],
   "source": [
    "#https://github.com/dranjan/python-plyfile\n",
    "from plyfile import PlyData, PlyElement\n",
    "import open3d as o3d\n",
    "\n",
    "plydata = PlyData.read('/home/johan/repos/GitHub/PCL-Perception-Project/PointCloud_Colored_Victor/pmvs_options.ply')\n",
    "print('plydata',plydata)"
   ]
  },
  {
   "cell_type": "code",
   "execution_count": 45,
   "metadata": {},
   "outputs": [
    {
     "name": "stdout",
     "output_type": "stream",
     "text": [
      "X: [-0.00292962 -0.00274538 -0.0024135  ...  0.00317585  0.00337271\n",
      "  0.00304138] 62918 <class 'numpy.ndarray'> (62918,)\n",
      "X: (62918, 1)\n",
      "B: (62918, 1)\n",
      "XYZRGB : (62918, 6)\n",
      "XYZRGB :\n",
      " [[-2.92962e-03 -6.80291e-02  9.63894e-01  1.28000e+02  1.57000e+02\n",
      "   1.74000e+02]\n",
      " [-2.74538e-03 -6.80136e-02  9.63873e-01  1.26000e+02  1.54000e+02\n",
      "   1.71000e+02]\n",
      " [-2.41350e-03 -6.79542e-02  9.63182e-01  1.24000e+02  1.49000e+02\n",
      "   1.64000e+02]]\n"
     ]
    }
   ],
   "source": [
    "X = plydata.elements[0].data['x']\n",
    "print('X:',X,len(X),type(X),X.shape)\n",
    "X = X.reshape(len(X),1)\n",
    "print('X:',X.shape)\n",
    "\n",
    "Y = plydata.elements[0].data['y'].reshape(len(X),1)\n",
    "Z = plydata.elements[0].data['z'].reshape(len(X),1)\n",
    "R = plydata.elements[0].data['diffuse_red'].reshape(len(X),1)\n",
    "G = plydata.elements[0].data['diffuse_green'].reshape(len(X),1)\n",
    "B = plydata.elements[0].data['diffuse_blue'].reshape(len(X),1)\n",
    "print('B:', B.shape)\n",
    "\n",
    "\n",
    "XY = np.hstack((X,Y))\n",
    "XYZ = np.hstack((XY,Z))\n",
    "XYZR = np.hstack((XYZ,R))\n",
    "XYZRG = np.hstack((XYZR,G))\n",
    "XYZRGB = np.hstack((XYZRG,B))\n",
    "print('XYZRGB :', XYZRGB.shape)\n",
    "print('XYZRGB :\\n',XYZRGB[0:3])\n",
    "np.savetxt(\"/home/johan/repos/GitHub/PCL-Perception-Project/PCD_XYZRGB_New.txt\", XYZRGB , delimiter=' ')\n"
   ]
  },
  {
   "cell_type": "markdown",
   "metadata": {},
   "source": [
    "## Visualization with Color Using PCL"
   ]
  }
 ],
 "metadata": {
  "kernelspec": {
   "display_name": "Python 3",
   "language": "python",
   "name": "python3"
  },
  "language_info": {
   "codemirror_mode": {
    "name": "ipython",
    "version": 3
   },
   "file_extension": ".py",
   "mimetype": "text/x-python",
   "name": "python",
   "nbconvert_exporter": "python",
   "pygments_lexer": "ipython3",
   "version": "3.5.2"
  },
  "varInspector": {
   "cols": {
    "lenName": 16,
    "lenType": 16,
    "lenVar": 40
   },
   "kernels_config": {
    "python": {
     "delete_cmd_postfix": "",
     "delete_cmd_prefix": "del ",
     "library": "var_list.py",
     "varRefreshCmd": "print(var_dic_list())"
    },
    "r": {
     "delete_cmd_postfix": ") ",
     "delete_cmd_prefix": "rm(",
     "library": "var_list.r",
     "varRefreshCmd": "cat(var_dic_list()) "
    }
   },
   "types_to_exclude": [
    "module",
    "function",
    "builtin_function_or_method",
    "instance",
    "_Feature"
   ],
   "window_display": false
  }
 },
 "nbformat": 4,
 "nbformat_minor": 2
}
